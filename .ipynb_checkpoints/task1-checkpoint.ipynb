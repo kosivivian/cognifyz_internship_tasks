{
 "cells": [
  {
   "cell_type": "markdown",
   "id": "b3d5eeab-c857-4d88-a9bb-9424576d1fda",
   "metadata": {},
   "source": [
    "###OBTAINING THE DATA"
   ]
  },
  {
   "cell_type": "code",
   "execution_count": null,
   "id": "c7fe23ae-a92f-4d92-9312-7386b21074b5",
   "metadata": {},
   "outputs": [],
   "source": []
  },
  {
   "cell_type": "code",
   "execution_count": 103,
   "id": "cfae7310-5def-41a5-b31a-bd5f97911add",
   "metadata": {},
   "outputs": [],
   "source": [
    "import numpy as np\n",
    "import pandas as pd\n",
    "import seaborn as sns\n",
    "import matplotlib.pyplot as plt\n",
    "import math\n",
    "%matplotlib inline\n",
    "\n",
    "r_data = pd.read_csv('Dataset-excel.csv')"
   ]
  },
  {
   "cell_type": "code",
   "execution_count": 104,
   "id": "1515e3ae-0d16-4343-9754-889b1d40f8f5",
   "metadata": {},
   "outputs": [
    {
     "data": {
      "text/html": [
       "<div>\n",
       "<style scoped>\n",
       "    .dataframe tbody tr th:only-of-type {\n",
       "        vertical-align: middle;\n",
       "    }\n",
       "\n",
       "    .dataframe tbody tr th {\n",
       "        vertical-align: top;\n",
       "    }\n",
       "\n",
       "    .dataframe thead th {\n",
       "        text-align: right;\n",
       "    }\n",
       "</style>\n",
       "<table border=\"1\" class=\"dataframe\">\n",
       "  <thead>\n",
       "    <tr style=\"text-align: right;\">\n",
       "      <th></th>\n",
       "      <th>Restaurant ID</th>\n",
       "      <th>Country Code</th>\n",
       "      <th>Longitude</th>\n",
       "      <th>Latitude</th>\n",
       "      <th>Average Cost for two</th>\n",
       "      <th>Price range</th>\n",
       "      <th>Aggregate rating</th>\n",
       "      <th>Votes</th>\n",
       "    </tr>\n",
       "  </thead>\n",
       "  <tbody>\n",
       "    <tr>\n",
       "      <th>count</th>\n",
       "      <td>9.551000e+03</td>\n",
       "      <td>9551.000000</td>\n",
       "      <td>9551.000000</td>\n",
       "      <td>9551.000000</td>\n",
       "      <td>9551.000000</td>\n",
       "      <td>9551.000000</td>\n",
       "      <td>9551.000000</td>\n",
       "      <td>9551.000000</td>\n",
       "    </tr>\n",
       "    <tr>\n",
       "      <th>mean</th>\n",
       "      <td>9.051128e+06</td>\n",
       "      <td>18.365616</td>\n",
       "      <td>64.126574</td>\n",
       "      <td>25.854381</td>\n",
       "      <td>1199.210763</td>\n",
       "      <td>1.804837</td>\n",
       "      <td>2.666370</td>\n",
       "      <td>156.909748</td>\n",
       "    </tr>\n",
       "    <tr>\n",
       "      <th>std</th>\n",
       "      <td>8.791521e+06</td>\n",
       "      <td>56.750546</td>\n",
       "      <td>41.467058</td>\n",
       "      <td>11.007935</td>\n",
       "      <td>16121.183073</td>\n",
       "      <td>0.905609</td>\n",
       "      <td>1.516378</td>\n",
       "      <td>430.169145</td>\n",
       "    </tr>\n",
       "    <tr>\n",
       "      <th>min</th>\n",
       "      <td>5.300000e+01</td>\n",
       "      <td>1.000000</td>\n",
       "      <td>-157.948486</td>\n",
       "      <td>-41.330428</td>\n",
       "      <td>0.000000</td>\n",
       "      <td>1.000000</td>\n",
       "      <td>0.000000</td>\n",
       "      <td>0.000000</td>\n",
       "    </tr>\n",
       "    <tr>\n",
       "      <th>25%</th>\n",
       "      <td>3.019625e+05</td>\n",
       "      <td>1.000000</td>\n",
       "      <td>77.081343</td>\n",
       "      <td>28.478713</td>\n",
       "      <td>250.000000</td>\n",
       "      <td>1.000000</td>\n",
       "      <td>2.500000</td>\n",
       "      <td>5.000000</td>\n",
       "    </tr>\n",
       "    <tr>\n",
       "      <th>50%</th>\n",
       "      <td>6.004089e+06</td>\n",
       "      <td>1.000000</td>\n",
       "      <td>77.191964</td>\n",
       "      <td>28.570469</td>\n",
       "      <td>400.000000</td>\n",
       "      <td>2.000000</td>\n",
       "      <td>3.200000</td>\n",
       "      <td>31.000000</td>\n",
       "    </tr>\n",
       "    <tr>\n",
       "      <th>75%</th>\n",
       "      <td>1.835229e+07</td>\n",
       "      <td>1.000000</td>\n",
       "      <td>77.282006</td>\n",
       "      <td>28.642758</td>\n",
       "      <td>700.000000</td>\n",
       "      <td>2.000000</td>\n",
       "      <td>3.700000</td>\n",
       "      <td>131.000000</td>\n",
       "    </tr>\n",
       "    <tr>\n",
       "      <th>max</th>\n",
       "      <td>1.850065e+07</td>\n",
       "      <td>216.000000</td>\n",
       "      <td>174.832089</td>\n",
       "      <td>55.976980</td>\n",
       "      <td>800000.000000</td>\n",
       "      <td>4.000000</td>\n",
       "      <td>4.900000</td>\n",
       "      <td>10934.000000</td>\n",
       "    </tr>\n",
       "  </tbody>\n",
       "</table>\n",
       "</div>"
      ],
      "text/plain": [
       "       Restaurant ID  Country Code    Longitude     Latitude  \\\n",
       "count   9.551000e+03   9551.000000  9551.000000  9551.000000   \n",
       "mean    9.051128e+06     18.365616    64.126574    25.854381   \n",
       "std     8.791521e+06     56.750546    41.467058    11.007935   \n",
       "min     5.300000e+01      1.000000  -157.948486   -41.330428   \n",
       "25%     3.019625e+05      1.000000    77.081343    28.478713   \n",
       "50%     6.004089e+06      1.000000    77.191964    28.570469   \n",
       "75%     1.835229e+07      1.000000    77.282006    28.642758   \n",
       "max     1.850065e+07    216.000000   174.832089    55.976980   \n",
       "\n",
       "       Average Cost for two  Price range  Aggregate rating         Votes  \n",
       "count           9551.000000  9551.000000       9551.000000   9551.000000  \n",
       "mean            1199.210763     1.804837          2.666370    156.909748  \n",
       "std            16121.183073     0.905609          1.516378    430.169145  \n",
       "min                0.000000     1.000000          0.000000      0.000000  \n",
       "25%              250.000000     1.000000          2.500000      5.000000  \n",
       "50%              400.000000     2.000000          3.200000     31.000000  \n",
       "75%              700.000000     2.000000          3.700000    131.000000  \n",
       "max           800000.000000     4.000000          4.900000  10934.000000  "
      ]
     },
     "execution_count": 104,
     "metadata": {},
     "output_type": "execute_result"
    }
   ],
   "source": [
    "r_data.describe()"
   ]
  },
  {
   "cell_type": "code",
   "execution_count": 105,
   "id": "d81289b7-afe1-4e88-8d8a-bc19f5d9787e",
   "metadata": {},
   "outputs": [
    {
     "data": {
      "text/plain": [
       "21"
      ]
     },
     "execution_count": 105,
     "metadata": {},
     "output_type": "execute_result"
    }
   ],
   "source": [
    "r_data.isnull().any().count()\n"
   ]
  },
  {
   "cell_type": "code",
   "execution_count": null,
   "id": "c01c4d71-67d9-4b55-95a0-5852152f2a1d",
   "metadata": {},
   "outputs": [],
   "source": []
  },
  {
   "cell_type": "code",
   "execution_count": 13,
   "id": "e4f3c6c7-ff2a-4dee-8121-a50abdb5d28d",
   "metadata": {},
   "outputs": [
    {
     "data": {
      "text/plain": [
       "Restaurant ID             int64\n",
       "Restaurant Name          object\n",
       "Country Code              int64\n",
       "City                     object\n",
       "Address                  object\n",
       "Locality                 object\n",
       "Locality Verbose         object\n",
       "Longitude               float64\n",
       "Latitude                float64\n",
       "Cuisines                 object\n",
       "Average Cost for two      int64\n",
       "Currency                 object\n",
       "Has Table booking        object\n",
       "Has Online delivery      object\n",
       "Is delivering now        object\n",
       "Switch to order menu     object\n",
       "Price range               int64\n",
       "Aggregate rating        float64\n",
       "Rating color             object\n",
       "Rating text              object\n",
       "Votes                     int64\n",
       "dtype: object"
      ]
     },
     "execution_count": 13,
     "metadata": {},
     "output_type": "execute_result"
    }
   ],
   "source": [
    "r_data.dtypes"
   ]
  },
  {
   "cell_type": "code",
   "execution_count": 36,
   "id": "81d9ae93-d66c-48a4-81eb-70fa16f1454c",
   "metadata": {},
   "outputs": [
    {
     "data": {
      "text/plain": [
       "7100"
      ]
     },
     "execution_count": 36,
     "metadata": {},
     "output_type": "execute_result"
    }
   ],
   "source": [
    "check = r_data[r_data['Has Online delivery'].str.contains('No')]\n",
    "len(check)"
   ]
  },
  {
   "cell_type": "code",
   "execution_count": 48,
   "id": "917a8bf5-ad5b-4074-8180-f705963dca1e",
   "metadata": {},
   "outputs": [
    {
     "ename": "KeyError",
     "evalue": "('Average Cost for two', 'Currency')",
     "output_type": "error",
     "traceback": [
      "\u001b[1;31m---------------------------------------------------------------------------\u001b[0m",
      "\u001b[1;31mKeyError\u001b[0m                                  Traceback (most recent call last)",
      "File \u001b[1;32m~\\anaconda3\\Lib\\site-packages\\pandas\\core\\indexes\\base.py:3805\u001b[0m, in \u001b[0;36mIndex.get_loc\u001b[1;34m(self, key)\u001b[0m\n\u001b[0;32m   3804\u001b[0m \u001b[38;5;28;01mtry\u001b[39;00m:\n\u001b[1;32m-> 3805\u001b[0m     \u001b[38;5;28;01mreturn\u001b[39;00m \u001b[38;5;28mself\u001b[39m\u001b[38;5;241m.\u001b[39m_engine\u001b[38;5;241m.\u001b[39mget_loc(casted_key)\n\u001b[0;32m   3806\u001b[0m \u001b[38;5;28;01mexcept\u001b[39;00m \u001b[38;5;167;01mKeyError\u001b[39;00m \u001b[38;5;28;01mas\u001b[39;00m err:\n",
      "File \u001b[1;32mindex.pyx:167\u001b[0m, in \u001b[0;36mpandas._libs.index.IndexEngine.get_loc\u001b[1;34m()\u001b[0m\n",
      "File \u001b[1;32mindex.pyx:196\u001b[0m, in \u001b[0;36mpandas._libs.index.IndexEngine.get_loc\u001b[1;34m()\u001b[0m\n",
      "File \u001b[1;32mpandas\\\\_libs\\\\hashtable_class_helper.pxi:7081\u001b[0m, in \u001b[0;36mpandas._libs.hashtable.PyObjectHashTable.get_item\u001b[1;34m()\u001b[0m\n",
      "File \u001b[1;32mpandas\\\\_libs\\\\hashtable_class_helper.pxi:7089\u001b[0m, in \u001b[0;36mpandas._libs.hashtable.PyObjectHashTable.get_item\u001b[1;34m()\u001b[0m\n",
      "\u001b[1;31mKeyError\u001b[0m: ('Average Cost for two', 'Currency')",
      "\nThe above exception was the direct cause of the following exception:\n",
      "\u001b[1;31mKeyError\u001b[0m                                  Traceback (most recent call last)",
      "Cell \u001b[1;32mIn[48], line 4\u001b[0m\n\u001b[0;32m      2\u001b[0m     \u001b[38;5;28;01mif\u001b[39;00m Currency \u001b[38;5;241m==\u001b[39m \u001b[38;5;124m\"\u001b[39m\u001b[38;5;124mBotswana Pula(P)\u001b[39m\u001b[38;5;124m\"\u001b[39m:\n\u001b[0;32m      3\u001b[0m         average_cost_for_two \u001b[38;5;241m==\u001b[39m average_cost_for_two\u001b[38;5;241m*\u001b[39m\u001b[38;5;241m1600\u001b[39m\n\u001b[1;32m----> 4\u001b[0m r_data[\u001b[38;5;124m'\u001b[39m\u001b[38;5;124mNew Currency In Dollars\u001b[39m\u001b[38;5;124m'\u001b[39m]\u001b[38;5;241m=\u001b[39mr_data[\u001b[38;5;124m'\u001b[39m\u001b[38;5;124mAverage Cost for two\u001b[39m\u001b[38;5;124m'\u001b[39m, \u001b[38;5;124m'\u001b[39m\u001b[38;5;124mCurrency\u001b[39m\u001b[38;5;124m'\u001b[39m]\u001b[38;5;241m.\u001b[39mapply(calculate)\n",
      "File \u001b[1;32m~\\anaconda3\\Lib\\site-packages\\pandas\\core\\frame.py:4102\u001b[0m, in \u001b[0;36mDataFrame.__getitem__\u001b[1;34m(self, key)\u001b[0m\n\u001b[0;32m   4100\u001b[0m \u001b[38;5;28;01mif\u001b[39;00m \u001b[38;5;28mself\u001b[39m\u001b[38;5;241m.\u001b[39mcolumns\u001b[38;5;241m.\u001b[39mnlevels \u001b[38;5;241m>\u001b[39m \u001b[38;5;241m1\u001b[39m:\n\u001b[0;32m   4101\u001b[0m     \u001b[38;5;28;01mreturn\u001b[39;00m \u001b[38;5;28mself\u001b[39m\u001b[38;5;241m.\u001b[39m_getitem_multilevel(key)\n\u001b[1;32m-> 4102\u001b[0m indexer \u001b[38;5;241m=\u001b[39m \u001b[38;5;28mself\u001b[39m\u001b[38;5;241m.\u001b[39mcolumns\u001b[38;5;241m.\u001b[39mget_loc(key)\n\u001b[0;32m   4103\u001b[0m \u001b[38;5;28;01mif\u001b[39;00m is_integer(indexer):\n\u001b[0;32m   4104\u001b[0m     indexer \u001b[38;5;241m=\u001b[39m [indexer]\n",
      "File \u001b[1;32m~\\anaconda3\\Lib\\site-packages\\pandas\\core\\indexes\\base.py:3812\u001b[0m, in \u001b[0;36mIndex.get_loc\u001b[1;34m(self, key)\u001b[0m\n\u001b[0;32m   3807\u001b[0m     \u001b[38;5;28;01mif\u001b[39;00m \u001b[38;5;28misinstance\u001b[39m(casted_key, \u001b[38;5;28mslice\u001b[39m) \u001b[38;5;129;01mor\u001b[39;00m (\n\u001b[0;32m   3808\u001b[0m         \u001b[38;5;28misinstance\u001b[39m(casted_key, abc\u001b[38;5;241m.\u001b[39mIterable)\n\u001b[0;32m   3809\u001b[0m         \u001b[38;5;129;01mand\u001b[39;00m \u001b[38;5;28many\u001b[39m(\u001b[38;5;28misinstance\u001b[39m(x, \u001b[38;5;28mslice\u001b[39m) \u001b[38;5;28;01mfor\u001b[39;00m x \u001b[38;5;129;01min\u001b[39;00m casted_key)\n\u001b[0;32m   3810\u001b[0m     ):\n\u001b[0;32m   3811\u001b[0m         \u001b[38;5;28;01mraise\u001b[39;00m InvalidIndexError(key)\n\u001b[1;32m-> 3812\u001b[0m     \u001b[38;5;28;01mraise\u001b[39;00m \u001b[38;5;167;01mKeyError\u001b[39;00m(key) \u001b[38;5;28;01mfrom\u001b[39;00m \u001b[38;5;21;01merr\u001b[39;00m\n\u001b[0;32m   3813\u001b[0m \u001b[38;5;28;01mexcept\u001b[39;00m \u001b[38;5;167;01mTypeError\u001b[39;00m:\n\u001b[0;32m   3814\u001b[0m     \u001b[38;5;66;03m# If we have a listlike key, _check_indexing_error will raise\u001b[39;00m\n\u001b[0;32m   3815\u001b[0m     \u001b[38;5;66;03m#  InvalidIndexError. Otherwise we fall through and re-raise\u001b[39;00m\n\u001b[0;32m   3816\u001b[0m     \u001b[38;5;66;03m#  the TypeError.\u001b[39;00m\n\u001b[0;32m   3817\u001b[0m     \u001b[38;5;28mself\u001b[39m\u001b[38;5;241m.\u001b[39m_check_indexing_error(key)\n",
      "\u001b[1;31mKeyError\u001b[0m: ('Average Cost for two', 'Currency')"
     ]
    }
   ],
   "source": [
    "def calculate(Currency):\n",
    "    if Currency == \"Botswana Pula(P)\":\n",
    "        average_cost_for_two == average_cost_for_two*1600\n",
    "r_data['New Currency In Dollars']=r_data['Average Cost for two', 'Currency'].apply(calculate)"
   ]
  },
  {
   "cell_type": "code",
   "execution_count": 29,
   "id": "b41fa8b5-c854-460a-ae23-5728d83a2af8",
   "metadata": {},
   "outputs": [
    {
     "name": "stdout",
     "output_type": "stream",
     "text": [
      "Country Code\n",
      "1      8652\n",
      "14       24\n",
      "30       60\n",
      "37        4\n",
      "94       21\n",
      "148      40\n",
      "162      22\n",
      "166      20\n",
      "184      20\n",
      "189      60\n",
      "191      20\n",
      "208      34\n",
      "214      60\n",
      "215      80\n",
      "216     434\n",
      "Name: Restaurant Name, dtype: int64\n"
     ]
    }
   ],
   "source": [
    "no_of_restaurants=r_data.groupby('Country Code')['Restaurant Name'].count()\n",
    "print(no_of_restaurants)"
   ]
  },
  {
   "cell_type": "code",
   "execution_count": 27,
   "id": "8f75349c-964d-45e0-a4ee-85ba8cb5db33",
   "metadata": {},
   "outputs": [
    {
     "name": "stdout",
     "output_type": "stream",
     "text": [
      "Country Code\n",
      "1      2.523324\n",
      "14     3.658333\n",
      "30     3.763333\n",
      "37     3.575000\n",
      "94     4.295238\n",
      "148    4.262500\n",
      "162    4.468182\n",
      "166    4.060000\n",
      "184    3.575000\n",
      "189    4.210000\n",
      "191    3.870000\n",
      "208    4.300000\n",
      "214    4.233333\n",
      "215    4.087500\n",
      "216    4.004378\n",
      "Name: Aggregate rating, dtype: float64\n"
     ]
    }
   ],
   "source": [
    "#data aggregate and grouping\n",
    "#lets know how the country code relates to the rating\n",
    "\n",
    "grouped_country_rating_mean=r_data.groupby('Country Code')['Aggregate rating'].mean()\n",
    "print(grouped_country_rating_mean)"
   ]
  },
  {
   "cell_type": "code",
   "execution_count": 20,
   "id": "bdef9771-b52c-4218-aa09-3620d1aa76ae",
   "metadata": {},
   "outputs": [
    {
     "data": {
      "text/plain": [
       "Restaurant Name\n",
       "Restaurant Mosaic @ The Orient    4.9\n",
       "Ministry of Crab                  4.9\n",
       "Miann                             4.9\n",
       "Shorts Burger and Shine           4.9\n",
       "Milse                             4.9\n",
       "Yellow Dog Eats                   4.9\n",
       "Duck & Waffle                     4.9\n",
       "Gaga Manjero                      4.9\n",
       "Mirchi And Mime                   4.9\n",
       "McGuire's Irish Pub & Brewery     4.9\n",
       "Name: Aggregate rating, dtype: float64"
      ]
     },
     "execution_count": 20,
     "metadata": {},
     "output_type": "execute_result"
    }
   ],
   "source": [
    "r_data.groupby('Restaurant Name')['Aggregate rating'].mean().sort_values(ascending=False).head(10)"
   ]
  },
  {
   "cell_type": "code",
   "execution_count": 23,
   "id": "65afa3fd-0b84-47e2-928b-85a8a20d21fa",
   "metadata": {},
   "outputs": [
    {
     "data": {
      "text/html": [
       "<div>\n",
       "<style scoped>\n",
       "    .dataframe tbody tr th:only-of-type {\n",
       "        vertical-align: middle;\n",
       "    }\n",
       "\n",
       "    .dataframe tbody tr th {\n",
       "        vertical-align: top;\n",
       "    }\n",
       "\n",
       "    .dataframe thead th {\n",
       "        text-align: right;\n",
       "    }\n",
       "</style>\n",
       "<table border=\"1\" class=\"dataframe\">\n",
       "  <thead>\n",
       "    <tr style=\"text-align: right;\">\n",
       "      <th></th>\n",
       "      <th></th>\n",
       "      <th>Votes</th>\n",
       "    </tr>\n",
       "    <tr>\n",
       "      <th>Restaurant Name</th>\n",
       "      <th>Aggregate rating</th>\n",
       "      <th></th>\n",
       "    </tr>\n",
       "  </thead>\n",
       "  <tbody>\n",
       "    <tr>\n",
       "      <th>Toit</th>\n",
       "      <th>4.8</th>\n",
       "      <td>10934.0</td>\n",
       "    </tr>\n",
       "    <tr>\n",
       "      <th>Truffles</th>\n",
       "      <th>4.7</th>\n",
       "      <td>9667.0</td>\n",
       "    </tr>\n",
       "    <tr>\n",
       "      <th>Hauz Khas Social</th>\n",
       "      <th>4.3</th>\n",
       "      <td>7931.0</td>\n",
       "    </tr>\n",
       "    <tr>\n",
       "      <th>Peter Cat</th>\n",
       "      <th>4.3</th>\n",
       "      <td>7574.0</td>\n",
       "    </tr>\n",
       "    <tr>\n",
       "      <th>AB's - Absolute Barbecues</th>\n",
       "      <th>4.6</th>\n",
       "      <td>6907.0</td>\n",
       "    </tr>\n",
       "  </tbody>\n",
       "</table>\n",
       "</div>"
      ],
      "text/plain": [
       "                                              Votes\n",
       "Restaurant Name           Aggregate rating         \n",
       "Toit                      4.8               10934.0\n",
       "Truffles                  4.7                9667.0\n",
       "Hauz Khas Social          4.3                7931.0\n",
       "Peter Cat                 4.3                7574.0\n",
       "AB's - Absolute Barbecues 4.6                6907.0"
      ]
     },
     "execution_count": 23,
     "metadata": {},
     "output_type": "execute_result"
    }
   ],
   "source": [
    "#create a new table that has just rating and restaurant\n",
    "ratings=pd.DataFrame(r_data.groupby(['Restaurant Name', 'Aggregate rating'])['Votes'].mean().sort_values(ascending=False))\n",
    "ratings.head()"
   ]
  },
  {
   "cell_type": "code",
   "execution_count": 33,
   "id": "7e1dc11c-b1d4-4e8b-abe5-dd2c53c383ec",
   "metadata": {},
   "outputs": [
    {
     "name": "stdout",
     "output_type": "stream",
     "text": [
      "Has Table booking\n",
      "No     2.559359\n",
      "Yes    3.441969\n",
      "Name: Aggregate rating, dtype: float64\n"
     ]
    }
   ],
   "source": [
    "#i want to see how the variables affect the ratings \n",
    "# for table booking\n",
    "ratings_by_booking=r_data.groupby('Has Table booking')['Aggregate rating'].mean()\n",
    "print(ratings_by_booking)"
   ]
  },
  {
   "cell_type": "code",
   "execution_count": 35,
   "id": "f069d0e7-5dcd-4cec-8536-868ba2ceb8ac",
   "metadata": {},
   "outputs": [
    {
     "data": {
      "text/plain": [
       "<Axes: xlabel='Has Table booking'>"
      ]
     },
     "execution_count": 35,
     "metadata": {},
     "output_type": "execute_result"
    },
    {
     "data": {
      "image/png": "[encoded data removed]",
      "text/plain": [
       "<Figure size 640x480 with 1 Axes>"
      ]
     },
     "metadata": {},
     "output_type": "display_data"
    }
   ],
   "source": [
    "ratings_by_booking.plot(kind='bar',color='pink')"
   ]
  },
  {
   "cell_type": "code",
   "execution_count": 37,
   "id": "1abcebe7-a65c-4b60-9396-d98bd1ad7b79",
   "metadata": {},
   "outputs": [
    {
     "data": {
      "text/plain": [
       "Restaurant ID             int64\n",
       "Restaurant Name          object\n",
       "Country Code              int64\n",
       "City                     object\n",
       "Address                  object\n",
       "Locality                 object\n",
       "Locality Verbose         object\n",
       "Longitude               float64\n",
       "Latitude                float64\n",
       "Cuisines                 object\n",
       "Average Cost for two      int64\n",
       "Currency                 object\n",
       "Has Table booking        object\n",
       "Has Online delivery      object\n",
       "Is delivering now        object\n",
       "Switch to order menu     object\n",
       "Price range               int64\n",
       "Aggregate rating        float64\n",
       "Rating color             object\n",
       "Rating text              object\n",
       "Votes                     int64\n",
       "dtype: object"
      ]
     },
     "execution_count": 37,
     "metadata": {},
     "output_type": "execute_result"
    }
   ],
   "source": [
    "r_data.dtypes\n"
   ]
  },
  {
   "cell_type": "code",
   "execution_count": 42,
   "id": "aa0d7460-5dbd-4c19-9952-ba042fa15148",
   "metadata": {},
   "outputs": [
    {
     "name": "stdout",
     "output_type": "stream",
     "text": [
      "Has Online delivery\n",
      "No     2.465296\n",
      "Yes    3.248837\n",
      "Name: Aggregate rating, dtype: float64\n"
     ]
    }
   ],
   "source": [
    "ratings_by_online=r_data.groupby('Has Online delivery')['Aggregate rating'].mean()\n",
    "print(ratings_by_online)"
   ]
  },
  {
   "cell_type": "code",
   "execution_count": 41,
   "id": "f5b44dfb-a0f6-43c9-9917-48ccdfa36dd2",
   "metadata": {},
   "outputs": [
    {
     "name": "stdout",
     "output_type": "stream",
     "text": [
      "Is delivering now\n",
      "No     2.664632\n",
      "Yes    3.152941\n",
      "Name: Aggregate rating, dtype: float64\n"
     ]
    }
   ],
   "source": [
    "ratings_by_delivery=r_data.groupby('Is delivering now')['Aggregate rating'].mean()\n",
    "print(ratings_by_delivery)"
   ]
  },
  {
   "cell_type": "code",
   "execution_count": 43,
   "id": "fe5243a3-4b06-4a4f-a2b2-a18652e4e781",
   "metadata": {},
   "outputs": [
    {
     "name": "stdout",
     "output_type": "stream",
     "text": [
      "Switch to order menu\n",
      "No    2.66637\n",
      "Name: Aggregate rating, dtype: float64\n"
     ]
    }
   ],
   "source": [
    "ratings_by_menuorder=r_data.groupby('Switch to order menu')['Aggregate rating'].mean()\n",
    "print(ratings_by_menuorder)"
   ]
  },
  {
   "cell_type": "code",
   "execution_count": 44,
   "id": "acb6650a-edf0-4ce3-8315-b90590bd746b",
   "metadata": {},
   "outputs": [
    {
     "data": {
      "text/plain": [
       "0"
      ]
     },
     "execution_count": 44,
     "metadata": {},
     "output_type": "execute_result"
    }
   ],
   "source": [
    "find = r_data[r_data['Switch to order menu'].str.contains('Yes')]\n",
    "len(find)"
   ]
  },
  {
   "cell_type": "code",
   "execution_count": 45,
   "id": "32ab36c6-30f0-4b59-a719-9678d534cc3e",
   "metadata": {},
   "outputs": [
    {
     "name": "stdout",
     "output_type": "stream",
     "text": [
      "Price range\n",
      "1    1.999887\n",
      "2    2.941054\n",
      "3    3.683381\n",
      "4    3.817918\n",
      "Name: Aggregate rating, dtype: float64\n"
     ]
    }
   ],
   "source": [
    "ratings_by_price=r_data.groupby('Price range')['Aggregate rating'].mean()\n",
    "print(ratings_by_price)"
   ]
  },
  {
   "cell_type": "code",
   "execution_count": 59,
   "id": "7e127e5c-ecb8-4eec-92e8-103a09bbfa43",
   "metadata": {},
   "outputs": [
    {
     "name": "stdout",
     "output_type": "stream",
     "text": [
      "City\n",
      "New Delhi    628340\n",
      "Gurgaon      132160\n",
      "Noida         73488\n",
      "Bangalore     56115\n",
      "Kolkata       44593\n",
      "              ...  \n",
      "Miller           11\n",
      "Mayfield         11\n",
      "Potrero           9\n",
      "Cochrane          6\n",
      "Consort           6\n",
      "Name: Votes, Length: 141, dtype: int64\n"
     ]
    }
   ],
   "source": [
    "ratings_by_votespercity=r_data.groupby('City')['Votes'].sum().sort_values(ascending=False)\n",
    "print(ratings_by_city)"
   ]
  },
  {
   "cell_type": "code",
   "execution_count": 60,
   "id": "04458efe-28f0-4ab3-b6db-6c3d773c2b84",
   "metadata": {},
   "outputs": [
    {
     "name": "stdout",
     "output_type": "stream",
     "text": [
      "City\n",
      "Inner City          4.900000\n",
      "Quezon City         4.800000\n",
      "Makati City         4.650000\n",
      "Pasig City          4.633333\n",
      "Mandaluyong City    4.625000\n",
      "                      ...   \n",
      "New Delhi           2.438845\n",
      "Montville           2.400000\n",
      "Mc Millan           2.400000\n",
      "Noida               2.036204\n",
      "Faridabad           1.866932\n",
      "Name: Aggregate rating, Length: 141, dtype: float64\n"
     ]
    }
   ],
   "source": [
    "ratings_by_city=r_data.groupby('City')['Aggregate rating'].mean().sort_values(ascending=False)\n",
    "print(ratings_by_city)"
   ]
  },
  {
   "cell_type": "code",
   "execution_count": 67,
   "id": "e3462dfb-b5d1-4b77-9c0a-d4c13fd6238c",
   "metadata": {},
   "outputs": [
    {
     "data": {
      "text/html": [
       "<div>\n",
       "<style scoped>\n",
       "    .dataframe tbody tr th:only-of-type {\n",
       "        vertical-align: middle;\n",
       "    }\n",
       "\n",
       "    .dataframe tbody tr th {\n",
       "        vertical-align: top;\n",
       "    }\n",
       "\n",
       "    .dataframe thead th {\n",
       "        text-align: right;\n",
       "    }\n",
       "</style>\n",
       "<table border=\"1\" class=\"dataframe\">\n",
       "  <thead>\n",
       "    <tr style=\"text-align: right;\">\n",
       "      <th></th>\n",
       "      <th>Votes</th>\n",
       "      <th>Aggregate rating</th>\n",
       "    </tr>\n",
       "    <tr>\n",
       "      <th>City</th>\n",
       "      <th></th>\n",
       "      <th></th>\n",
       "    </tr>\n",
       "  </thead>\n",
       "  <tbody>\n",
       "    <tr>\n",
       "      <th>Abu Dhabi</th>\n",
       "      <td>6045</td>\n",
       "      <td>4.300000</td>\n",
       "    </tr>\n",
       "    <tr>\n",
       "      <th>Agra</th>\n",
       "      <td>2062</td>\n",
       "      <td>3.965000</td>\n",
       "    </tr>\n",
       "    <tr>\n",
       "      <th>Ahmedabad</th>\n",
       "      <td>12266</td>\n",
       "      <td>4.161905</td>\n",
       "    </tr>\n",
       "    <tr>\n",
       "      <th>Albany</th>\n",
       "      <td>1676</td>\n",
       "      <td>3.555000</td>\n",
       "    </tr>\n",
       "    <tr>\n",
       "      <th>Allahabad</th>\n",
       "      <td>1392</td>\n",
       "      <td>3.395000</td>\n",
       "    </tr>\n",
       "    <tr>\n",
       "      <th>...</th>\n",
       "      <td>...</td>\n",
       "      <td>...</td>\n",
       "    </tr>\n",
       "    <tr>\n",
       "      <th>Weirton</th>\n",
       "      <td>156</td>\n",
       "      <td>3.900000</td>\n",
       "    </tr>\n",
       "    <tr>\n",
       "      <th>Wellington City</th>\n",
       "      <td>2926</td>\n",
       "      <td>4.250000</td>\n",
       "    </tr>\n",
       "    <tr>\n",
       "      <th>Winchester Bay</th>\n",
       "      <td>16</td>\n",
       "      <td>3.200000</td>\n",
       "    </tr>\n",
       "    <tr>\n",
       "      <th>Yorkton</th>\n",
       "      <td>26</td>\n",
       "      <td>3.300000</td>\n",
       "    </tr>\n",
       "    <tr>\n",
       "      <th>��stanbul</th>\n",
       "      <td>12043</td>\n",
       "      <td>4.292857</td>\n",
       "    </tr>\n",
       "  </tbody>\n",
       "</table>\n",
       "<p>141 rows × 2 columns</p>\n",
       "</div>"
      ],
      "text/plain": [
       "                 Votes  Aggregate rating\n",
       "City                                    \n",
       "Abu Dhabi         6045          4.300000\n",
       "Agra              2062          3.965000\n",
       "Ahmedabad        12266          4.161905\n",
       "Albany            1676          3.555000\n",
       "Allahabad         1392          3.395000\n",
       "...                ...               ...\n",
       "Weirton            156          3.900000\n",
       "Wellington City   2926          4.250000\n",
       "Winchester Bay      16          3.200000\n",
       "Yorkton             26          3.300000\n",
       "��stanbul        12043          4.292857\n",
       "\n",
       "[141 rows x 2 columns]"
      ]
     },
     "execution_count": 67,
     "metadata": {},
     "output_type": "execute_result"
    }
   ],
   "source": [
    "race=pd.merge(ratings_by_votespercity,ratings_by_city,on=\"City\",how=\"outer\")\n"
   ]
  },
  {
   "cell_type": "code",
   "execution_count": 73,
   "id": "88640188-4424-4ea0-ad2a-49c3fb70ecf2",
   "metadata": {},
   "outputs": [
    {
     "ename": "AttributeError",
     "evalue": "module 'numpy' has no attribute 'arrange'",
     "output_type": "error",
     "traceback": [
      "\u001b[1;31m---------------------------------------------------------------------------\u001b[0m",
      "\u001b[1;31mAttributeError\u001b[0m                            Traceback (most recent call last)",
      "Cell \u001b[1;32mIn[73], line 2\u001b[0m\n\u001b[0;32m      1\u001b[0m width \u001b[38;5;241m=\u001b[39m \u001b[38;5;241m0.25\u001b[39m\n\u001b[1;32m----> 2\u001b[0m r \u001b[38;5;241m=\u001b[39m np\u001b[38;5;241m.\u001b[39marrange(\u001b[38;5;28mlen\u001b[39m(r_data[\u001b[38;5;124m'\u001b[39m\u001b[38;5;124mCity\u001b[39m\u001b[38;5;124m'\u001b[39m]))\n\u001b[0;32m      3\u001b[0m votes \u001b[38;5;241m=\u001b[39m r_data[\u001b[38;5;124m'\u001b[39m\u001b[38;5;124mVotes\u001b[39m\u001b[38;5;124m'\u001b[39m]\n\u001b[0;32m      4\u001b[0m plt\u001b[38;5;241m.\u001b[39mbar(r,votes,color\u001b[38;5;241m=\u001b[39m\u001b[38;5;124m'\u001b[39m\u001b[38;5;124mpink\u001b[39m\u001b[38;5;124m'\u001b[39m,width\u001b[38;5;241m=\u001b[39mwidth,edgecolor\u001b[38;5;241m=\u001b[39m\u001b[38;5;124m'\u001b[39m\u001b[38;5;124mblack\u001b[39m\u001b[38;5;124m'\u001b[39m,label\u001b[38;5;241m=\u001b[39m\u001b[38;5;124m'\u001b[39m\u001b[38;5;124mVotes\u001b[39m\u001b[38;5;124m'\u001b[39m)\n",
      "File \u001b[1;32m~\\anaconda3\\Lib\\site-packages\\numpy\\__init__.py:333\u001b[0m, in \u001b[0;36m__getattr__\u001b[1;34m(attr)\u001b[0m\n\u001b[0;32m    330\u001b[0m     \u001b[38;5;124m\"\u001b[39m\u001b[38;5;124mRemoved in NumPy 1.25.0\u001b[39m\u001b[38;5;124m\"\u001b[39m\n\u001b[0;32m    331\u001b[0m     \u001b[38;5;28;01mraise\u001b[39;00m \u001b[38;5;167;01mRuntimeError\u001b[39;00m(\u001b[38;5;124m\"\u001b[39m\u001b[38;5;124mTester was removed in NumPy 1.25.\u001b[39m\u001b[38;5;124m\"\u001b[39m)\n\u001b[1;32m--> 333\u001b[0m \u001b[38;5;28;01mraise\u001b[39;00m \u001b[38;5;167;01mAttributeError\u001b[39;00m(\u001b[38;5;124m\"\u001b[39m\u001b[38;5;124mmodule \u001b[39m\u001b[38;5;132;01m{!r}\u001b[39;00m\u001b[38;5;124m has no attribute \u001b[39m\u001b[38;5;124m\"\u001b[39m\n\u001b[0;32m    334\u001b[0m                      \u001b[38;5;124m\"\u001b[39m\u001b[38;5;132;01m{!r}\u001b[39;00m\u001b[38;5;124m\"\u001b[39m\u001b[38;5;241m.\u001b[39mformat(\u001b[38;5;18m__name__\u001b[39m, attr))\n",
      "\u001b[1;31mAttributeError\u001b[0m: module 'numpy' has no attribute 'arrange'"
     ]
    }
   ],
   "source": [
    "width = 0.25\n",
    "r = np.arrange(len(r_data['City']))\n",
    "votes = r_data['Votes']\n",
    "plt.bar(r,votes,color='pink',width=width,edgecolor='black',label='Votes')\n",
    "plt.bar(r,rate,color='orange',width=width,edgecolor='black',label='Rating')\n",
    "plt.xticks(r + width/2, r_data['City'])\n",
    "plt.show()"
   ]
  },
  {
   "cell_type": "code",
   "execution_count": 74,
   "id": "3998568d-b4ed-4606-b774-95eea8ed362a",
   "metadata": {},
   "outputs": [
    {
     "name": "stdout",
     "output_type": "stream",
     "text": [
      "Cuisines\n",
      "Afghani                                      0.725\n",
      "Afghani, Mughlai, Chinese                    0.000\n",
      "Afghani, North Indian                        0.000\n",
      "Afghani, North Indian, Pakistani, Arabian    0.000\n",
      "African                                      4.700\n",
      "                                             ...  \n",
      "Western, Asian, Cafe                         4.200\n",
      "Western, Fusion, Fast Food                   3.200\n",
      "World Cuisine                                4.900\n",
      "World Cuisine, Mexican, Italian              4.400\n",
      "World Cuisine, Patisserie, Cafe              4.200\n",
      "Name: Aggregate rating, Length: 1825, dtype: float64\n"
     ]
    }
   ],
   "source": [
    "ratings_by_cuisines=r_data.groupby('Cuisines')['Aggregate rating'].mean()\n",
    "print(ratings_by_cuisines)"
   ]
  },
  {
   "cell_type": "code",
   "execution_count": 78,
   "id": "de8dbb56-d97c-4715-945f-6a04e34c40c7",
   "metadata": {},
   "outputs": [
    {
     "name": "stdout",
     "output_type": "stream",
     "text": [
      "Cuisines\n",
      "North Indian                                             936\n",
      "North Indian, Chinese                                    511\n",
      "Chinese                                                  354\n",
      "Fast Food                                                354\n",
      "North Indian, Mughlai                                    334\n",
      "                                                        ... \n",
      "Continental, Italian, North Indian, Lebanese, Thai         1\n",
      "Continental, Italian, North Indian, Lebanese               1\n",
      "Continental, Italian, North Indian, Chinese, Lebanese      1\n",
      "Continental, Italian, North Indian, Chinese                1\n",
      "World Cuisine, Patisserie, Cafe                            1\n",
      "Name: Restaurant Name, Length: 1825, dtype: int64\n"
     ]
    }
   ],
   "source": [
    "no_of_restaurants=r_data.groupby('Cuisines')['Restaurant Name'].count().sort_values(ascending=False)\n",
    "print(no_of_restaurants)"
   ]
  },
  {
   "cell_type": "code",
   "execution_count": 81,
   "id": "539a25a2-7ce4-40ab-b3e2-29f666c6f3ba",
   "metadata": {},
   "outputs": [
    {
     "ename": "ValueError",
     "evalue": "Cannot mask with non-boolean array containing NA / NaN values",
     "output_type": "error",
     "traceback": [
      "\u001b[1;31m---------------------------------------------------------------------------\u001b[0m",
      "\u001b[1;31mValueError\u001b[0m                                Traceback (most recent call last)",
      "Cell \u001b[1;32mIn[81], line 1\u001b[0m\n\u001b[1;32m----> 1\u001b[0m find \u001b[38;5;241m=\u001b[39m r_data[r_data[\u001b[38;5;124m'\u001b[39m\u001b[38;5;124mCuisines\u001b[39m\u001b[38;5;124m'\u001b[39m]\u001b[38;5;241m.\u001b[39mstr\u001b[38;5;241m.\u001b[39mcontains(\u001b[38;5;124m'\u001b[39m\u001b[38;5;124mNorth Indian\u001b[39m\u001b[38;5;124m'\u001b[39m)]\n\u001b[0;32m      2\u001b[0m \u001b[38;5;28mlen\u001b[39m(find)\n",
      "File \u001b[1;32m~\\anaconda3\\Lib\\site-packages\\pandas\\core\\frame.py:4092\u001b[0m, in \u001b[0;36mDataFrame.__getitem__\u001b[1;34m(self, key)\u001b[0m\n\u001b[0;32m   4089\u001b[0m     \u001b[38;5;28;01mreturn\u001b[39;00m \u001b[38;5;28mself\u001b[39m\u001b[38;5;241m.\u001b[39mwhere(key)\n\u001b[0;32m   4091\u001b[0m \u001b[38;5;66;03m# Do we have a (boolean) 1d indexer?\u001b[39;00m\n\u001b[1;32m-> 4092\u001b[0m \u001b[38;5;28;01mif\u001b[39;00m com\u001b[38;5;241m.\u001b[39mis_bool_indexer(key):\n\u001b[0;32m   4093\u001b[0m     \u001b[38;5;28;01mreturn\u001b[39;00m \u001b[38;5;28mself\u001b[39m\u001b[38;5;241m.\u001b[39m_getitem_bool_array(key)\n\u001b[0;32m   4095\u001b[0m \u001b[38;5;66;03m# We are left with two options: a single key, and a collection of keys,\u001b[39;00m\n\u001b[0;32m   4096\u001b[0m \u001b[38;5;66;03m# We interpret tuples as collections only for non-MultiIndex\u001b[39;00m\n",
      "File \u001b[1;32m~\\anaconda3\\Lib\\site-packages\\pandas\\core\\common.py:136\u001b[0m, in \u001b[0;36mis_bool_indexer\u001b[1;34m(key)\u001b[0m\n\u001b[0;32m    132\u001b[0m     na_msg \u001b[38;5;241m=\u001b[39m \u001b[38;5;124m\"\u001b[39m\u001b[38;5;124mCannot mask with non-boolean array containing NA / NaN values\u001b[39m\u001b[38;5;124m\"\u001b[39m\n\u001b[0;32m    133\u001b[0m     \u001b[38;5;28;01mif\u001b[39;00m lib\u001b[38;5;241m.\u001b[39mis_bool_array(key_array, skipna\u001b[38;5;241m=\u001b[39m\u001b[38;5;28;01mTrue\u001b[39;00m):\n\u001b[0;32m    134\u001b[0m         \u001b[38;5;66;03m# Don't raise on e.g. [\"A\", \"B\", np.nan], see\u001b[39;00m\n\u001b[0;32m    135\u001b[0m         \u001b[38;5;66;03m#  test_loc_getitem_list_of_labels_categoricalindex_with_na\u001b[39;00m\n\u001b[1;32m--> 136\u001b[0m         \u001b[38;5;28;01mraise\u001b[39;00m \u001b[38;5;167;01mValueError\u001b[39;00m(na_msg)\n\u001b[0;32m    137\u001b[0m     \u001b[38;5;28;01mreturn\u001b[39;00m \u001b[38;5;28;01mFalse\u001b[39;00m\n\u001b[0;32m    138\u001b[0m \u001b[38;5;28;01mreturn\u001b[39;00m \u001b[38;5;28;01mTrue\u001b[39;00m\n",
      "\u001b[1;31mValueError\u001b[0m: Cannot mask with non-boolean array containing NA / NaN values"
     ]
    }
   ],
   "source": [
    "find = r_data[r_data['Cuisines'].str.contains('North Indian')]\n",
    "len(find)"
   ]
  },
  {
   "cell_type": "code",
   "execution_count": 97,
   "id": "f201cf64-722c-433d-b8fd-15ffb924c5a3",
   "metadata": {},
   "outputs": [
    {
     "name": "stdout",
     "output_type": "stream",
     "text": [
      "     Restaurant ID                 Restaurant Name  Country Code      City  \\\n",
      "436       17615915                 The Lady & Sons           216  Savannah   \n",
      "437       17616487                 Green Truck Pub           216  Savannah   \n",
      "438       17615924             Leopold's Ice Cream           216  Savannah   \n",
      "439       17615979        Mrs. Wilkes' Dining Room           216  Savannah   \n",
      "440       17616266                         Zunzi's           216  Savannah   \n",
      "441       17615976      Moon River Brewing Company           216  Savannah   \n",
      "442       17616025       Pirates' House Restaurant           216  Savannah   \n",
      "443       17615597             B. Matthew's Eatery           216  Savannah   \n",
      "444       17615740             Crystal Beer Parlor           216  Savannah   \n",
      "445       17616203  Goose Feathers Cafe and Bakery           216  Savannah   \n",
      "446       17616590                         Henry's           216  Savannah   \n",
      "447       17615855             Huey's On The River           216  Savannah   \n",
      "448       17616348                J. Christopher's           216  Savannah   \n",
      "449       17616368            Lulu's Chocolate Bar           216  Savannah   \n",
      "450       17616400              Rocks on the River           216  Savannah   \n",
      "451       17616076                 SOHO South Cafe           216  Savannah   \n",
      "452       17616205             The Olde Pink House           216  Savannah   \n",
      "453       17616222              Vic's On The River           216  Savannah   \n",
      "\n",
      "                                        Address  Locality    Locality Verbose  \\\n",
      "436       102 W Congress St, Savannah, GA 31401  Savannah  Savannah, Savannah   \n",
      "437   2430 Habersham Street, Savannah, GA 31401  Savannah  Savannah, Savannah   \n",
      "438  212 E Broughton Street, Savannah, GA 31401  Savannah  Savannah, Savannah   \n",
      "439          107 W Jones St, Savannah, GA 31401  Savannah  Savannah, Savannah   \n",
      "440       108 E York Street, Savannah, GA 31401  Savannah  Savannah, Savannah   \n",
      "441             21 W Bay St, Savannah, GA 31401  Savannah  Savannah, Savannah   \n",
      "442           20 E Broad St, Savannah, GA 31401  Savannah  Savannah, Savannah   \n",
      "443            325 E Bay St, Savannah, GA 31401  Savannah  Savannah, Savannah   \n",
      "444          301 W Jones St, Savannah, GA 31401  Savannah  Savannah, Savannah   \n",
      "445           39 Barnard St, Savannah, GA 31401  Savannah  Savannah, Savannah   \n",
      "446           28 Drayton St, Savannah, GA 31401  Savannah  Savannah, Savannah   \n",
      "447          115 E River St, Savannah, GA 31401  Savannah  Savannah, Savannah   \n",
      "448          122 E. Liberty, Savannah, GA 31401  Savannah  Savannah, Savannah   \n",
      "449         42 MLK Jr. Blvd, Savannah, GA 31401  Savannah  Savannah, Savannah   \n",
      "450        102 West Bay St., Savannah, GA 31401  Savannah  Savannah, Savannah   \n",
      "451         12 W Liberty St, Savannah, GA 31401  Savannah  Savannah, Savannah   \n",
      "452          23 Abercorn St, Savannah, GA 31401  Savannah  Savannah, Savannah   \n",
      "453             26 E Bay St, Savannah, GA 31401  Savannah  Savannah, Savannah   \n",
      "\n",
      "     Longitude   Latitude                                Cuisines  ...  \\\n",
      "436 -81.095400  32.080400                                Southern  ...   \n",
      "437 -81.096647  32.052858                                  Burger  ...   \n",
      "438 -81.089400  32.078500           Desserts, Sandwich, Ice Cream  ...   \n",
      "439 -81.095500  32.072700                      American, Southern  ...   \n",
      "440 -81.091100  32.077500  International, Mediterranean, Sandwich  ...   \n",
      "441 -81.091600  32.080900            American, Bar Food, Sandwich  ...   \n",
      "442 -81.084400  32.078200                American, Seafood, Steak  ...   \n",
      "443 -81.087500  32.079800                     American, Breakfast  ...   \n",
      "444 -81.097900  32.073500                      American, Bar Food  ...   \n",
      "445 -81.094100  32.080100                   Breakfast, Vegetarian  ...   \n",
      "446 -81.090521  32.079477                     American, Breakfast  ...   \n",
      "447 -81.089700  32.081200                        Breakfast, Cajun  ...   \n",
      "448 -81.091482  32.074495              Breakfast, Diner, Sandwich  ...   \n",
      "449 -81.097051  32.080742                Coffee and Tea, Desserts  ...   \n",
      "450 -81.092484  32.081394                   Pizza, Seafood, Steak  ...   \n",
      "451 -81.093900  32.074700                Cafe, Sandwich, Southern  ...   \n",
      "452 -81.089700  32.079800             American, Seafood, Southern  ...   \n",
      "453 -81.090800  32.080900                                American  ...   \n",
      "\n",
      "      Currency Has Table booking Has Online delivery Is delivering now  \\\n",
      "436  Dollar($)                No                  No                No   \n",
      "437  Dollar($)                No                  No                No   \n",
      "438  Dollar($)                No                  No                No   \n",
      "439  Dollar($)                No                  No                No   \n",
      "440  Dollar($)                No                  No                No   \n",
      "441  Dollar($)                No                  No                No   \n",
      "442  Dollar($)                No                  No                No   \n",
      "443  Dollar($)                No                  No                No   \n",
      "444  Dollar($)                No                  No                No   \n",
      "445  Dollar($)                No                  No                No   \n",
      "446  Dollar($)                No                  No                No   \n",
      "447  Dollar($)                No                  No                No   \n",
      "448  Dollar($)                No                  No                No   \n",
      "449  Dollar($)                No                  No                No   \n",
      "450  Dollar($)                No                  No                No   \n",
      "451  Dollar($)                No                  No                No   \n",
      "452  Dollar($)                No                  No                No   \n",
      "453  Dollar($)                No                  No                No   \n",
      "\n",
      "    Switch to order menu Price range  Aggregate rating  Rating color  \\\n",
      "436                   No           3               3.3        Orange   \n",
      "437                   No           3               4.7    Dark Green   \n",
      "438                   No           1               4.6    Dark Green   \n",
      "439                   No           3               4.5    Dark Green   \n",
      "440                   No           2               4.5    Dark Green   \n",
      "441                   No           2               3.7        Yellow   \n",
      "442                   No           3               3.8        Yellow   \n",
      "443                   No           2               4.1         Green   \n",
      "444                   No           2               4.4         Green   \n",
      "445                   No           1               4.2         Green   \n",
      "446                   No           1               4.1         Green   \n",
      "447                   No           3               4.1         Green   \n",
      "448                   No           2               4.3         Green   \n",
      "449                   No           1               4.3         Green   \n",
      "450                   No           4               4.0         Green   \n",
      "451                   No           2               4.3         Green   \n",
      "452                   No           4               4.4         Green   \n",
      "453                   No           4               4.1         Green   \n",
      "\n",
      "    Rating text Votes  \n",
      "436     Average  1201  \n",
      "437   Excellent   906  \n",
      "438   Excellent   880  \n",
      "439   Excellent  1014  \n",
      "440   Excellent   796  \n",
      "441        Good   747  \n",
      "442        Good   566  \n",
      "443   Very Good   683  \n",
      "444   Very Good   690  \n",
      "445   Very Good   680  \n",
      "446   Very Good   287  \n",
      "447   Very Good   802  \n",
      "448   Very Good   710  \n",
      "449   Very Good   456  \n",
      "450   Very Good   687  \n",
      "451   Very Good   719  \n",
      "452   Very Good  1803  \n",
      "453   Very Good   558  \n",
      "\n",
      "[18 rows x 21 columns]\n"
     ]
    }
   ],
   "source": [
    "check = r_data[r_data['Locality'].str.contains('Savannah')]\n",
    "print(check)\n",
    "#no_of_restaurants=r_data.groupby('Cuisines')['Locality']\n",
    "#print(no_of_restaurants)"
   ]
  },
  {
   "cell_type": "code",
   "execution_count": null,
   "id": "d99ae8db-65f1-4bb6-80eb-52cf34662778",
   "metadata": {},
   "outputs": [],
   "source": []
  }
 ],
 "metadata": {
  "kernelspec": {
   "display_name": "Python 3 (ipykernel)",
   "language": "python",
   "name": "python3"
  },
  "language_info": {
   "codemirror_mode": {
    "name": "ipython",
    "version": 3
   },
   "file_extension": ".py",
   "mimetype": "text/x-python",
   "name": "python",
   "nbconvert_exporter": "python",
   "pygments_lexer": "ipython3",
   "version": "3.12.4"
  }
 },
 "nbformat": 4,
 "nbformat_minor": 5
}
